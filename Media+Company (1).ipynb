{
  "nbformat": 4,
  "nbformat_minor": 0,
  "metadata": {
    "kernelspec": {
      "display_name": "Python [default]",
      "language": "python",
      "name": "python3"
    },
    "language_info": {
      "codemirror_mode": {
        "name": "ipython",
        "version": 3
      },
      "file_extension": ".py",
      "mimetype": "text/x-python",
      "name": "python",
      "nbconvert_exporter": "python",
      "pygments_lexer": "ipython3",
      "version": "3.5.4"
    },
    "colab": {
      "name": "Media+Company.ipynb",
      "provenance": []
    }
  },
  "cells": [
    {
      "cell_type": "markdown",
      "metadata": {
        "id": "oQL8bLMA4d8x",
        "colab_type": "text"
      },
      "source": [
        "## Media Company Case Study"
      ]
    },
    {
      "cell_type": "markdown",
      "metadata": {
        "id": "Vd_AAcbd4d8y",
        "colab_type": "text"
      },
      "source": [
        "Problem Statement: A digital media company (similar to Voot, Hotstar, Netflix, etc.) had launched a show. Initially, the show got a good response, but then witnessed a decline in viewership. The company wants to figure out what went wrong."
      ]
    },
    {
      "cell_type": "code",
      "metadata": {
        "id": "Xz8xg5w44d8y",
        "colab_type": "code",
        "colab": {
          "base_uri": "https://localhost:8080/",
          "height": 70
        },
        "outputId": "f4a00f91-37e0-4616-e39a-bea735319bf2"
      },
      "source": [
        "# Importing all required packages\n",
        "import numpy as np\n",
        "import pandas as pd\n",
        "import matplotlib.pyplot as plt\n",
        "import seaborn as sns\n",
        "%matplotlib inline"
      ],
      "execution_count": 1,
      "outputs": [
        {
          "output_type": "stream",
          "text": [
            "/usr/local/lib/python3.6/dist-packages/statsmodels/tools/_testing.py:19: FutureWarning: pandas.util.testing is deprecated. Use the functions in the public API at pandas.testing instead.\n",
            "  import pandas.util.testing as tm\n"
          ],
          "name": "stderr"
        }
      ]
    },
    {
      "cell_type": "code",
      "metadata": {
        "id": "NgtPNtfa4d81",
        "colab_type": "code",
        "colab": {
          "base_uri": "https://localhost:8080/",
          "height": 195
        },
        "outputId": "a8d304c5-dab1-421c-b713-725e1cba5584"
      },
      "source": [
        "#Importing dataset\n",
        "media = pd.read_csv('mediacompany.csv')\n",
        "media.head()\n"
      ],
      "execution_count": 3,
      "outputs": [
        {
          "output_type": "execute_result",
          "data": {
            "text/html": [
              "<div>\n",
              "<style scoped>\n",
              "    .dataframe tbody tr th:only-of-type {\n",
              "        vertical-align: middle;\n",
              "    }\n",
              "\n",
              "    .dataframe tbody tr th {\n",
              "        vertical-align: top;\n",
              "    }\n",
              "\n",
              "    .dataframe thead th {\n",
              "        text-align: right;\n",
              "    }\n",
              "</style>\n",
              "<table border=\"1\" class=\"dataframe\">\n",
              "  <thead>\n",
              "    <tr style=\"text-align: right;\">\n",
              "      <th></th>\n",
              "      <th>Date</th>\n",
              "      <th>Views_show</th>\n",
              "      <th>Visitors</th>\n",
              "      <th>Views_platform</th>\n",
              "      <th>Ad_impression</th>\n",
              "      <th>Cricket_match_india</th>\n",
              "      <th>Character_A</th>\n",
              "      <th>Unnamed: 7</th>\n",
              "    </tr>\n",
              "  </thead>\n",
              "  <tbody>\n",
              "    <tr>\n",
              "      <th>0</th>\n",
              "      <td>3/1/2017</td>\n",
              "      <td>183738</td>\n",
              "      <td>1260228</td>\n",
              "      <td>1706478</td>\n",
              "      <td>1060860448</td>\n",
              "      <td>0</td>\n",
              "      <td>0</td>\n",
              "      <td>NaN</td>\n",
              "    </tr>\n",
              "    <tr>\n",
              "      <th>1</th>\n",
              "      <td>3/2/2017</td>\n",
              "      <td>193763</td>\n",
              "      <td>1270561</td>\n",
              "      <td>1690727</td>\n",
              "      <td>1031846645</td>\n",
              "      <td>0</td>\n",
              "      <td>0</td>\n",
              "      <td>NaN</td>\n",
              "    </tr>\n",
              "    <tr>\n",
              "      <th>2</th>\n",
              "      <td>3/3/2017</td>\n",
              "      <td>210479</td>\n",
              "      <td>1248183</td>\n",
              "      <td>1726157</td>\n",
              "      <td>1010867575</td>\n",
              "      <td>0</td>\n",
              "      <td>0</td>\n",
              "      <td>NaN</td>\n",
              "    </tr>\n",
              "    <tr>\n",
              "      <th>3</th>\n",
              "      <td>3/4/2017</td>\n",
              "      <td>240061</td>\n",
              "      <td>1492913</td>\n",
              "      <td>1855353</td>\n",
              "      <td>1079194579</td>\n",
              "      <td>1</td>\n",
              "      <td>0</td>\n",
              "      <td>NaN</td>\n",
              "    </tr>\n",
              "    <tr>\n",
              "      <th>4</th>\n",
              "      <td>3/5/2017</td>\n",
              "      <td>446314</td>\n",
              "      <td>1594712</td>\n",
              "      <td>2041418</td>\n",
              "      <td>1357736987</td>\n",
              "      <td>0</td>\n",
              "      <td>0</td>\n",
              "      <td>NaN</td>\n",
              "    </tr>\n",
              "  </tbody>\n",
              "</table>\n",
              "</div>"
            ],
            "text/plain": [
              "       Date  Views_show  Visitors  ...  Cricket_match_india  Character_A  Unnamed: 7\n",
              "0  3/1/2017      183738   1260228  ...                    0            0         NaN\n",
              "1  3/2/2017      193763   1270561  ...                    0            0         NaN\n",
              "2  3/3/2017      210479   1248183  ...                    0            0         NaN\n",
              "3  3/4/2017      240061   1492913  ...                    1            0         NaN\n",
              "4  3/5/2017      446314   1594712  ...                    0            0         NaN\n",
              "\n",
              "[5 rows x 8 columns]"
            ]
          },
          "metadata": {
            "tags": []
          },
          "execution_count": 3
        }
      ]
    },
    {
      "cell_type": "code",
      "metadata": {
        "id": "4CbcTwxi49Y6",
        "colab_type": "code",
        "colab": {}
      },
      "source": [
        "media = media.drop('Unnamed: 7',axis = 1)"
      ],
      "execution_count": 4,
      "outputs": []
    },
    {
      "cell_type": "code",
      "metadata": {
        "id": "zssz5pg34d83",
        "colab_type": "code",
        "colab": {
          "base_uri": "https://localhost:8080/",
          "height": 195
        },
        "outputId": "c3418ba1-2cf6-42a1-c159-48811fd5b823"
      },
      "source": [
        "4#Let's explore the top 5 rows\n",
        "media.head()"
      ],
      "execution_count": 5,
      "outputs": [
        {
          "output_type": "execute_result",
          "data": {
            "text/html": [
              "<div>\n",
              "<style scoped>\n",
              "    .dataframe tbody tr th:only-of-type {\n",
              "        vertical-align: middle;\n",
              "    }\n",
              "\n",
              "    .dataframe tbody tr th {\n",
              "        vertical-align: top;\n",
              "    }\n",
              "\n",
              "    .dataframe thead th {\n",
              "        text-align: right;\n",
              "    }\n",
              "</style>\n",
              "<table border=\"1\" class=\"dataframe\">\n",
              "  <thead>\n",
              "    <tr style=\"text-align: right;\">\n",
              "      <th></th>\n",
              "      <th>Date</th>\n",
              "      <th>Views_show</th>\n",
              "      <th>Visitors</th>\n",
              "      <th>Views_platform</th>\n",
              "      <th>Ad_impression</th>\n",
              "      <th>Cricket_match_india</th>\n",
              "      <th>Character_A</th>\n",
              "    </tr>\n",
              "  </thead>\n",
              "  <tbody>\n",
              "    <tr>\n",
              "      <th>0</th>\n",
              "      <td>3/1/2017</td>\n",
              "      <td>183738</td>\n",
              "      <td>1260228</td>\n",
              "      <td>1706478</td>\n",
              "      <td>1060860448</td>\n",
              "      <td>0</td>\n",
              "      <td>0</td>\n",
              "    </tr>\n",
              "    <tr>\n",
              "      <th>1</th>\n",
              "      <td>3/2/2017</td>\n",
              "      <td>193763</td>\n",
              "      <td>1270561</td>\n",
              "      <td>1690727</td>\n",
              "      <td>1031846645</td>\n",
              "      <td>0</td>\n",
              "      <td>0</td>\n",
              "    </tr>\n",
              "    <tr>\n",
              "      <th>2</th>\n",
              "      <td>3/3/2017</td>\n",
              "      <td>210479</td>\n",
              "      <td>1248183</td>\n",
              "      <td>1726157</td>\n",
              "      <td>1010867575</td>\n",
              "      <td>0</td>\n",
              "      <td>0</td>\n",
              "    </tr>\n",
              "    <tr>\n",
              "      <th>3</th>\n",
              "      <td>3/4/2017</td>\n",
              "      <td>240061</td>\n",
              "      <td>1492913</td>\n",
              "      <td>1855353</td>\n",
              "      <td>1079194579</td>\n",
              "      <td>1</td>\n",
              "      <td>0</td>\n",
              "    </tr>\n",
              "    <tr>\n",
              "      <th>4</th>\n",
              "      <td>3/5/2017</td>\n",
              "      <td>446314</td>\n",
              "      <td>1594712</td>\n",
              "      <td>2041418</td>\n",
              "      <td>1357736987</td>\n",
              "      <td>0</td>\n",
              "      <td>0</td>\n",
              "    </tr>\n",
              "  </tbody>\n",
              "</table>\n",
              "</div>"
            ],
            "text/plain": [
              "       Date  Views_show  ...  Cricket_match_india  Character_A\n",
              "0  3/1/2017      183738  ...                    0            0\n",
              "1  3/2/2017      193763  ...                    0            0\n",
              "2  3/3/2017      210479  ...                    0            0\n",
              "3  3/4/2017      240061  ...                    1            0\n",
              "4  3/5/2017      446314  ...                    0            0\n",
              "\n",
              "[5 rows x 7 columns]"
            ]
          },
          "metadata": {
            "tags": []
          },
          "execution_count": 5
        }
      ]
    },
    {
      "cell_type": "code",
      "metadata": {
        "id": "fso5OLIW4d86",
        "colab_type": "code",
        "colab": {}
      },
      "source": [
        "# Converting date to Pandas datetime format\n",
        "media['Date'] = pd.to_datetime(media['Date'])"
      ],
      "execution_count": 11,
      "outputs": []
    },
    {
      "cell_type": "code",
      "metadata": {
        "id": "KLGp5MCb4d8-",
        "colab_type": "code",
        "colab": {
          "base_uri": "https://localhost:8080/",
          "height": 195
        },
        "outputId": "31bacd3d-6ccb-4c31-d1a9-7c1af7f553e7"
      },
      "source": [
        "media.head()"
      ],
      "execution_count": 12,
      "outputs": [
        {
          "output_type": "execute_result",
          "data": {
            "text/html": [
              "<div>\n",
              "<style scoped>\n",
              "    .dataframe tbody tr th:only-of-type {\n",
              "        vertical-align: middle;\n",
              "    }\n",
              "\n",
              "    .dataframe tbody tr th {\n",
              "        vertical-align: top;\n",
              "    }\n",
              "\n",
              "    .dataframe thead th {\n",
              "        text-align: right;\n",
              "    }\n",
              "</style>\n",
              "<table border=\"1\" class=\"dataframe\">\n",
              "  <thead>\n",
              "    <tr style=\"text-align: right;\">\n",
              "      <th></th>\n",
              "      <th>Date</th>\n",
              "      <th>Views_show</th>\n",
              "      <th>Visitors</th>\n",
              "      <th>Views_platform</th>\n",
              "      <th>Ad_impression</th>\n",
              "      <th>Cricket_match_india</th>\n",
              "      <th>Character_A</th>\n",
              "    </tr>\n",
              "  </thead>\n",
              "  <tbody>\n",
              "    <tr>\n",
              "      <th>0</th>\n",
              "      <td>2017-03-01</td>\n",
              "      <td>183738</td>\n",
              "      <td>1260228</td>\n",
              "      <td>1706478</td>\n",
              "      <td>1060860448</td>\n",
              "      <td>0</td>\n",
              "      <td>0</td>\n",
              "    </tr>\n",
              "    <tr>\n",
              "      <th>1</th>\n",
              "      <td>2017-03-02</td>\n",
              "      <td>193763</td>\n",
              "      <td>1270561</td>\n",
              "      <td>1690727</td>\n",
              "      <td>1031846645</td>\n",
              "      <td>0</td>\n",
              "      <td>0</td>\n",
              "    </tr>\n",
              "    <tr>\n",
              "      <th>2</th>\n",
              "      <td>2017-03-03</td>\n",
              "      <td>210479</td>\n",
              "      <td>1248183</td>\n",
              "      <td>1726157</td>\n",
              "      <td>1010867575</td>\n",
              "      <td>0</td>\n",
              "      <td>0</td>\n",
              "    </tr>\n",
              "    <tr>\n",
              "      <th>3</th>\n",
              "      <td>2017-03-04</td>\n",
              "      <td>240061</td>\n",
              "      <td>1492913</td>\n",
              "      <td>1855353</td>\n",
              "      <td>1079194579</td>\n",
              "      <td>1</td>\n",
              "      <td>0</td>\n",
              "    </tr>\n",
              "    <tr>\n",
              "      <th>4</th>\n",
              "      <td>2017-03-05</td>\n",
              "      <td>446314</td>\n",
              "      <td>1594712</td>\n",
              "      <td>2041418</td>\n",
              "      <td>1357736987</td>\n",
              "      <td>0</td>\n",
              "      <td>0</td>\n",
              "    </tr>\n",
              "  </tbody>\n",
              "</table>\n",
              "</div>"
            ],
            "text/plain": [
              "        Date  Views_show  ...  Cricket_match_india  Character_A\n",
              "0 2017-03-01      183738  ...                    0            0\n",
              "1 2017-03-02      193763  ...                    0            0\n",
              "2 2017-03-03      210479  ...                    0            0\n",
              "3 2017-03-04      240061  ...                    1            0\n",
              "4 2017-03-05      446314  ...                    0            0\n",
              "\n",
              "[5 rows x 7 columns]"
            ]
          },
          "metadata": {
            "tags": []
          },
          "execution_count": 12
        }
      ]
    },
    {
      "cell_type": "code",
      "metadata": {
        "id": "w1VGT3ZZ4d9B",
        "colab_type": "code",
        "colab": {}
      },
      "source": [
        "# Deriving \"days since the show started\"\n",
        "from datetime import datetime\n",
        "\n",
        "d0 = datetime(2017, 2, 28)\n",
        "d1 = media.Date\n",
        "delta = d1 - d0\n",
        "media['day']= delta"
      ],
      "execution_count": 14,
      "outputs": []
    },
    {
      "cell_type": "code",
      "metadata": {
        "id": "WGjULUqQ4d9D",
        "colab_type": "code",
        "colab": {
          "base_uri": "https://localhost:8080/",
          "height": 195
        },
        "outputId": "dab031af-98a6-4a07-a9f9-2356f414a66e"
      },
      "source": [
        "media.head()"
      ],
      "execution_count": 15,
      "outputs": [
        {
          "output_type": "execute_result",
          "data": {
            "text/html": [
              "<div>\n",
              "<style scoped>\n",
              "    .dataframe tbody tr th:only-of-type {\n",
              "        vertical-align: middle;\n",
              "    }\n",
              "\n",
              "    .dataframe tbody tr th {\n",
              "        vertical-align: top;\n",
              "    }\n",
              "\n",
              "    .dataframe thead th {\n",
              "        text-align: right;\n",
              "    }\n",
              "</style>\n",
              "<table border=\"1\" class=\"dataframe\">\n",
              "  <thead>\n",
              "    <tr style=\"text-align: right;\">\n",
              "      <th></th>\n",
              "      <th>Date</th>\n",
              "      <th>Views_show</th>\n",
              "      <th>Visitors</th>\n",
              "      <th>Views_platform</th>\n",
              "      <th>Ad_impression</th>\n",
              "      <th>Cricket_match_india</th>\n",
              "      <th>Character_A</th>\n",
              "      <th>day</th>\n",
              "    </tr>\n",
              "  </thead>\n",
              "  <tbody>\n",
              "    <tr>\n",
              "      <th>0</th>\n",
              "      <td>2017-03-01</td>\n",
              "      <td>183738</td>\n",
              "      <td>1260228</td>\n",
              "      <td>1706478</td>\n",
              "      <td>1060860448</td>\n",
              "      <td>0</td>\n",
              "      <td>0</td>\n",
              "      <td>1 days</td>\n",
              "    </tr>\n",
              "    <tr>\n",
              "      <th>1</th>\n",
              "      <td>2017-03-02</td>\n",
              "      <td>193763</td>\n",
              "      <td>1270561</td>\n",
              "      <td>1690727</td>\n",
              "      <td>1031846645</td>\n",
              "      <td>0</td>\n",
              "      <td>0</td>\n",
              "      <td>2 days</td>\n",
              "    </tr>\n",
              "    <tr>\n",
              "      <th>2</th>\n",
              "      <td>2017-03-03</td>\n",
              "      <td>210479</td>\n",
              "      <td>1248183</td>\n",
              "      <td>1726157</td>\n",
              "      <td>1010867575</td>\n",
              "      <td>0</td>\n",
              "      <td>0</td>\n",
              "      <td>3 days</td>\n",
              "    </tr>\n",
              "    <tr>\n",
              "      <th>3</th>\n",
              "      <td>2017-03-04</td>\n",
              "      <td>240061</td>\n",
              "      <td>1492913</td>\n",
              "      <td>1855353</td>\n",
              "      <td>1079194579</td>\n",
              "      <td>1</td>\n",
              "      <td>0</td>\n",
              "      <td>4 days</td>\n",
              "    </tr>\n",
              "    <tr>\n",
              "      <th>4</th>\n",
              "      <td>2017-03-05</td>\n",
              "      <td>446314</td>\n",
              "      <td>1594712</td>\n",
              "      <td>2041418</td>\n",
              "      <td>1357736987</td>\n",
              "      <td>0</td>\n",
              "      <td>0</td>\n",
              "      <td>5 days</td>\n",
              "    </tr>\n",
              "  </tbody>\n",
              "</table>\n",
              "</div>"
            ],
            "text/plain": [
              "        Date  Views_show  Visitors  ...  Cricket_match_india  Character_A    day\n",
              "0 2017-03-01      183738   1260228  ...                    0            0 1 days\n",
              "1 2017-03-02      193763   1270561  ...                    0            0 2 days\n",
              "2 2017-03-03      210479   1248183  ...                    0            0 3 days\n",
              "3 2017-03-04      240061   1492913  ...                    1            0 4 days\n",
              "4 2017-03-05      446314   1594712  ...                    0            0 5 days\n",
              "\n",
              "[5 rows x 8 columns]"
            ]
          },
          "metadata": {
            "tags": []
          },
          "execution_count": 15
        }
      ]
    },
    {
      "cell_type": "code",
      "metadata": {
        "id": "sCObu7fF4d9F",
        "colab_type": "code",
        "colab": {}
      },
      "source": [
        "# Cleaning days\n",
        "media['day'] = media['day'].astype(str)\n",
        "media['day'] = media['day'].map(lambda x: x[0:2])\n",
        "media['day'] = media['day'].astype(int)"
      ],
      "execution_count": 16,
      "outputs": []
    },
    {
      "cell_type": "code",
      "metadata": {
        "id": "kKFboC4_4d9H",
        "colab_type": "code",
        "colab": {
          "base_uri": "https://localhost:8080/",
          "height": 195
        },
        "outputId": "33da3466-5945-4376-d6a3-55330f79c632"
      },
      "source": [
        "media.head()"
      ],
      "execution_count": 17,
      "outputs": [
        {
          "output_type": "execute_result",
          "data": {
            "text/html": [
              "<div>\n",
              "<style scoped>\n",
              "    .dataframe tbody tr th:only-of-type {\n",
              "        vertical-align: middle;\n",
              "    }\n",
              "\n",
              "    .dataframe tbody tr th {\n",
              "        vertical-align: top;\n",
              "    }\n",
              "\n",
              "    .dataframe thead th {\n",
              "        text-align: right;\n",
              "    }\n",
              "</style>\n",
              "<table border=\"1\" class=\"dataframe\">\n",
              "  <thead>\n",
              "    <tr style=\"text-align: right;\">\n",
              "      <th></th>\n",
              "      <th>Date</th>\n",
              "      <th>Views_show</th>\n",
              "      <th>Visitors</th>\n",
              "      <th>Views_platform</th>\n",
              "      <th>Ad_impression</th>\n",
              "      <th>Cricket_match_india</th>\n",
              "      <th>Character_A</th>\n",
              "      <th>day</th>\n",
              "    </tr>\n",
              "  </thead>\n",
              "  <tbody>\n",
              "    <tr>\n",
              "      <th>0</th>\n",
              "      <td>2017-03-01</td>\n",
              "      <td>183738</td>\n",
              "      <td>1260228</td>\n",
              "      <td>1706478</td>\n",
              "      <td>1060860448</td>\n",
              "      <td>0</td>\n",
              "      <td>0</td>\n",
              "      <td>1</td>\n",
              "    </tr>\n",
              "    <tr>\n",
              "      <th>1</th>\n",
              "      <td>2017-03-02</td>\n",
              "      <td>193763</td>\n",
              "      <td>1270561</td>\n",
              "      <td>1690727</td>\n",
              "      <td>1031846645</td>\n",
              "      <td>0</td>\n",
              "      <td>0</td>\n",
              "      <td>2</td>\n",
              "    </tr>\n",
              "    <tr>\n",
              "      <th>2</th>\n",
              "      <td>2017-03-03</td>\n",
              "      <td>210479</td>\n",
              "      <td>1248183</td>\n",
              "      <td>1726157</td>\n",
              "      <td>1010867575</td>\n",
              "      <td>0</td>\n",
              "      <td>0</td>\n",
              "      <td>3</td>\n",
              "    </tr>\n",
              "    <tr>\n",
              "      <th>3</th>\n",
              "      <td>2017-03-04</td>\n",
              "      <td>240061</td>\n",
              "      <td>1492913</td>\n",
              "      <td>1855353</td>\n",
              "      <td>1079194579</td>\n",
              "      <td>1</td>\n",
              "      <td>0</td>\n",
              "      <td>4</td>\n",
              "    </tr>\n",
              "    <tr>\n",
              "      <th>4</th>\n",
              "      <td>2017-03-05</td>\n",
              "      <td>446314</td>\n",
              "      <td>1594712</td>\n",
              "      <td>2041418</td>\n",
              "      <td>1357736987</td>\n",
              "      <td>0</td>\n",
              "      <td>0</td>\n",
              "      <td>5</td>\n",
              "    </tr>\n",
              "  </tbody>\n",
              "</table>\n",
              "</div>"
            ],
            "text/plain": [
              "        Date  Views_show  Visitors  ...  Cricket_match_india  Character_A  day\n",
              "0 2017-03-01      183738   1260228  ...                    0            0    1\n",
              "1 2017-03-02      193763   1270561  ...                    0            0    2\n",
              "2 2017-03-03      210479   1248183  ...                    0            0    3\n",
              "3 2017-03-04      240061   1492913  ...                    1            0    4\n",
              "4 2017-03-05      446314   1594712  ...                    0            0    5\n",
              "\n",
              "[5 rows x 8 columns]"
            ]
          },
          "metadata": {
            "tags": []
          },
          "execution_count": 17
        }
      ]
    },
    {
      "cell_type": "code",
      "metadata": {
        "id": "ZCpjRz2A4d9J",
        "colab_type": "code",
        "colab": {
          "base_uri": "https://localhost:8080/",
          "height": 296
        },
        "outputId": "84d25339-c2c0-4bc5-aef6-aad711e17252"
      },
      "source": [
        "# days vs Views_show\n",
        "media.plot.line(x='day', y='Views_show')"
      ],
      "execution_count": 18,
      "outputs": [
        {
          "output_type": "execute_result",
          "data": {
            "text/plain": [
              "<matplotlib.axes._subplots.AxesSubplot at 0x7fa3470e79e8>"
            ]
          },
          "metadata": {
            "tags": []
          },
          "execution_count": 18
        },
        {
          "output_type": "display_data",
          "data": {
            "image/png": "[encoded data removed]",
            "text/plain": [
              "<Figure size 432x288 with 1 Axes>"
            ]
          },
          "metadata": {
            "tags": [],
            "needs_background": "light"
          }
        }
      ]
    },
    {
      "cell_type": "code",
      "metadata": {
        "id": "9hv_AhZL4d9N",
        "colab_type": "code",
        "colab": {
          "base_uri": "https://localhost:8080/",
          "height": 332
        },
        "outputId": "949e490e-04b0-4805-962e-202a252f8bcd"
      },
      "source": [
        "# Scatter Plot (days vs Views_show)\n",
        "colors = (0,0,0)\n",
        "area = np.pi*3\n",
        "plt.scatter(media.day, media.Views_show, s=area, c=colors, alpha=0.5)\n",
        "plt.title('Scatter plot pythonspot.com')\n",
        "plt.xlabel('x')\n",
        "plt.ylabel('y')\n",
        "plt.show()"
      ],
      "execution_count": 19,
      "outputs": [
        {
          "output_type": "stream",
          "text": [
            "*c* argument looks like a single numeric RGB or RGBA sequence, which should be avoided as value-mapping will have precedence in case its length matches with *x* & *y*.  Please use the *color* keyword-argument or provide a 2-D array with a single row if you intend to specify the same RGB or RGBA value for all points.\n"
          ],
          "name": "stderr"
        },
        {
          "output_type": "display_data",
          "data": {
            "image/png": "[encoded data removed]",
            "text/plain": [
              "<Figure size 432x288 with 1 Axes>"
            ]
          },
          "metadata": {
            "tags": [],
            "needs_background": "light"
          }
        }
      ]
    },
    {
      "cell_type": "code",
      "metadata": {
        "id": "tB8JaLdq4d9Q",
        "colab_type": "code",
        "colab": {}
      },
      "source": [
        ""
      ],
      "execution_count": 61,
      "outputs": []
    },
    {
      "cell_type": "code",
      "metadata": {
        "id": "qKix-VP04d9S",
        "colab_type": "code",
        "colab": {
          "base_uri": "https://localhost:8080/",
          "height": 299
        },
        "outputId": "ebad9063-b187-44f9-f49f-bfae2beed2d1"
      },
      "source": [
        "# Derived Metrics\n",
        "# Weekdays are taken such that 1 corresponds to Sunday and 7 to Saturday\n",
        "# Generate the weekday variable\n",
        "media['weekday'] = (media['day']+3)%7\n",
        "media.weekday.replace(0,7, inplace=True)\n",
        "media['weekday'] = media['weekday'].astype(int)\n",
        "media.head()"
      ],
      "execution_count": 62,
      "outputs": [
        {
          "output_type": "execute_result",
          "data": {
            "text/html": [
              "<div>\n",
              "<style scoped>\n",
              "    .dataframe tbody tr th:only-of-type {\n",
              "        vertical-align: middle;\n",
              "    }\n",
              "\n",
              "    .dataframe tbody tr th {\n",
              "        vertical-align: top;\n",
              "    }\n",
              "\n",
              "    .dataframe thead th {\n",
              "        text-align: right;\n",
              "    }\n",
              "</style>\n",
              "<table border=\"1\" class=\"dataframe\">\n",
              "  <thead>\n",
              "    <tr style=\"text-align: right;\">\n",
              "      <th></th>\n",
              "      <th>Date</th>\n",
              "      <th>Views_show</th>\n",
              "      <th>Visitors</th>\n",
              "      <th>Views_platform</th>\n",
              "      <th>Ad_impression</th>\n",
              "      <th>Cricket_match_india</th>\n",
              "      <th>Character_A</th>\n",
              "      <th>day</th>\n",
              "      <th>weekday</th>\n",
              "      <th>weekend</th>\n",
              "      <th>Lag_Views</th>\n",
              "      <th>ad_impression_million</th>\n",
              "    </tr>\n",
              "  </thead>\n",
              "  <tbody>\n",
              "    <tr>\n",
              "      <th>0</th>\n",
              "      <td>2017-03-01</td>\n",
              "      <td>183738</td>\n",
              "      <td>1260228</td>\n",
              "      <td>1706478</td>\n",
              "      <td>1060860448</td>\n",
              "      <td>0</td>\n",
              "      <td>0</td>\n",
              "      <td>1</td>\n",
              "      <td>4</td>\n",
              "      <td>0</td>\n",
              "      <td>0</td>\n",
              "      <td>1060.860448</td>\n",
              "    </tr>\n",
              "    <tr>\n",
              "      <th>1</th>\n",
              "      <td>2017-03-02</td>\n",
              "      <td>193763</td>\n",
              "      <td>1270561</td>\n",
              "      <td>1690727</td>\n",
              "      <td>1031846645</td>\n",
              "      <td>0</td>\n",
              "      <td>0</td>\n",
              "      <td>2</td>\n",
              "      <td>5</td>\n",
              "      <td>0</td>\n",
              "      <td>183738</td>\n",
              "      <td>1031.846645</td>\n",
              "    </tr>\n",
              "    <tr>\n",
              "      <th>2</th>\n",
              "      <td>2017-03-03</td>\n",
              "      <td>210479</td>\n",
              "      <td>1248183</td>\n",
              "      <td>1726157</td>\n",
              "      <td>1010867575</td>\n",
              "      <td>0</td>\n",
              "      <td>0</td>\n",
              "      <td>3</td>\n",
              "      <td>6</td>\n",
              "      <td>0</td>\n",
              "      <td>193763</td>\n",
              "      <td>1010.867575</td>\n",
              "    </tr>\n",
              "    <tr>\n",
              "      <th>3</th>\n",
              "      <td>2017-03-04</td>\n",
              "      <td>240061</td>\n",
              "      <td>1492913</td>\n",
              "      <td>1855353</td>\n",
              "      <td>1079194579</td>\n",
              "      <td>1</td>\n",
              "      <td>0</td>\n",
              "      <td>4</td>\n",
              "      <td>7</td>\n",
              "      <td>1</td>\n",
              "      <td>210479</td>\n",
              "      <td>1079.194579</td>\n",
              "    </tr>\n",
              "    <tr>\n",
              "      <th>4</th>\n",
              "      <td>2017-03-05</td>\n",
              "      <td>446314</td>\n",
              "      <td>1594712</td>\n",
              "      <td>2041418</td>\n",
              "      <td>1357736987</td>\n",
              "      <td>0</td>\n",
              "      <td>0</td>\n",
              "      <td>5</td>\n",
              "      <td>1</td>\n",
              "      <td>1</td>\n",
              "      <td>240061</td>\n",
              "      <td>1357.736987</td>\n",
              "    </tr>\n",
              "  </tbody>\n",
              "</table>\n",
              "</div>"
            ],
            "text/plain": [
              "        Date  Views_show  Visitors  ...  weekend  Lag_Views  ad_impression_million\n",
              "0 2017-03-01      183738   1260228  ...        0          0            1060.860448\n",
              "1 2017-03-02      193763   1270561  ...        0     183738            1031.846645\n",
              "2 2017-03-03      210479   1248183  ...        0     193763            1010.867575\n",
              "3 2017-03-04      240061   1492913  ...        1     210479            1079.194579\n",
              "4 2017-03-05      446314   1594712  ...        1     240061            1357.736987\n",
              "\n",
              "[5 rows x 12 columns]"
            ]
          },
          "metadata": {
            "tags": []
          },
          "execution_count": 62
        }
      ]
    },
    {
      "cell_type": "markdown",
      "metadata": {
        "id": "x5qlDzUh4d9V",
        "colab_type": "text"
      },
      "source": [
        "#### Running first model (lm1) Weekday & visitors "
      ]
    },
    {
      "cell_type": "code",
      "metadata": {
        "id": "P_oTWrLw4d9V",
        "colab_type": "code",
        "colab": {}
      },
      "source": [
        "# Putting feature variable to X\n",
        "X = media[['Visitors','weekday']]\n",
        "\n",
        "# Putting response variable to y\n",
        "y = media['Views_show']"
      ],
      "execution_count": 63,
      "outputs": []
    },
    {
      "cell_type": "code",
      "metadata": {
        "id": "ynNyoICX4d9X",
        "colab_type": "code",
        "colab": {}
      },
      "source": [
        "from sklearn.linear_model import LinearRegression"
      ],
      "execution_count": 64,
      "outputs": []
    },
    {
      "cell_type": "code",
      "metadata": {
        "id": "lrUVcWUf4d9Z",
        "colab_type": "code",
        "colab": {}
      },
      "source": [
        "# Representing LinearRegression as lr(Creating LinearRegression Object)\n",
        "lm = LinearRegression()"
      ],
      "execution_count": 65,
      "outputs": []
    },
    {
      "cell_type": "code",
      "metadata": {
        "id": "YLlqX5c94d9d",
        "colab_type": "code",
        "colab": {
          "base_uri": "https://localhost:8080/",
          "height": 34
        },
        "outputId": "8108cdfa-621c-4856-aae0-1a5a5707c3de"
      },
      "source": [
        "# fit the model to the training data\n",
        "lm.fit(X,y)"
      ],
      "execution_count": 66,
      "outputs": [
        {
          "output_type": "execute_result",
          "data": {
            "text/plain": [
              "LinearRegression(copy_X=True, fit_intercept=True, n_jobs=None, normalize=False)"
            ]
          },
          "metadata": {
            "tags": []
          },
          "execution_count": 66
        }
      ]
    },
    {
      "cell_type": "code",
      "metadata": {
        "id": "rrdrStL04d9g",
        "colab_type": "code",
        "colab": {
          "base_uri": "https://localhost:8080/",
          "height": 487
        },
        "outputId": "5100dfaf-e156-4831-fec2-09d2368a400a"
      },
      "source": [
        "import statsmodels.api as sm\n",
        "#Unlike SKLearn, statsmodels don't automatically fit a constant, \n",
        "#so you need to use the method sm.add_constant(X) in order to add a constant. \n",
        "X = sm.add_constant(X)\n",
        "# create a fitted model in one line\n",
        "lm_1 = sm.OLS(y,X).fit()\n",
        "print(lm_1.summary())"
      ],
      "execution_count": 67,
      "outputs": [
        {
          "output_type": "stream",
          "text": [
            "                            OLS Regression Results                            \n",
            "==============================================================================\n",
            "Dep. Variable:             Views_show   R-squared:                       0.485\n",
            "Model:                            OLS   Adj. R-squared:                  0.472\n",
            "Method:                 Least Squares   F-statistic:                     36.26\n",
            "Date:                Tue, 22 Sep 2020   Prob (F-statistic):           8.01e-12\n",
            "Time:                        03:46:29   Log-Likelihood:                -1042.5\n",
            "No. Observations:                  80   AIC:                             2091.\n",
            "Df Residuals:                      77   BIC:                             2098.\n",
            "Df Model:                           2                                         \n",
            "Covariance Type:            nonrobust                                         \n",
            "==============================================================================\n",
            "                 coef    std err          t      P>|t|      [0.025      0.975]\n",
            "------------------------------------------------------------------------------\n",
            "const      -3.862e+04   1.07e+05     -0.360      0.720   -2.52e+05    1.75e+05\n",
            "Visitors       0.2787      0.057      4.911      0.000       0.166       0.392\n",
            "weekday    -3.591e+04   6591.205     -5.448      0.000    -4.9e+04   -2.28e+04\n",
            "==============================================================================\n",
            "Omnibus:                        2.684   Durbin-Watson:                   0.650\n",
            "Prob(Omnibus):                  0.261   Jarque-Bera (JB):                2.653\n",
            "Skew:                           0.423   Prob(JB):                        0.265\n",
            "Kurtosis:                       2.718   Cond. No.                     1.46e+07\n",
            "==============================================================================\n",
            "\n",
            "Warnings:\n",
            "[1] Standard Errors assume that the covariance matrix of the errors is correctly specified.\n",
            "[2] The condition number is large, 1.46e+07. This might indicate that there are\n",
            "strong multicollinearity or other numerical problems.\n"
          ],
          "name": "stdout"
        }
      ]
    },
    {
      "cell_type": "code",
      "metadata": {
        "id": "bs6khJrs4d9i",
        "colab_type": "code",
        "colab": {}
      },
      "source": [
        "# create Weekend variable, with value 1 at weekends and 0 at weekdays\n",
        "def cond(i):\n",
        "    if i % 7 == 5: return 1\n",
        "    elif i % 7 == 4: return 1\n",
        "    else :return 0\n",
        "    return i\n",
        "\n",
        "media['weekend']=[cond(i) for i in media['day']]"
      ],
      "execution_count": 68,
      "outputs": []
    },
    {
      "cell_type": "code",
      "metadata": {
        "id": "h7j6zoBy4d9k",
        "colab_type": "code",
        "colab": {
          "base_uri": "https://localhost:8080/",
          "height": 299
        },
        "outputId": "eb6e6c93-946c-4b67-bad5-450f98e930b6"
      },
      "source": [
        "media.head()\n"
      ],
      "execution_count": 69,
      "outputs": [
        {
          "output_type": "execute_result",
          "data": {
            "text/html": [
              "<div>\n",
              "<style scoped>\n",
              "    .dataframe tbody tr th:only-of-type {\n",
              "        vertical-align: middle;\n",
              "    }\n",
              "\n",
              "    .dataframe tbody tr th {\n",
              "        vertical-align: top;\n",
              "    }\n",
              "\n",
              "    .dataframe thead th {\n",
              "        text-align: right;\n",
              "    }\n",
              "</style>\n",
              "<table border=\"1\" class=\"dataframe\">\n",
              "  <thead>\n",
              "    <tr style=\"text-align: right;\">\n",
              "      <th></th>\n",
              "      <th>Date</th>\n",
              "      <th>Views_show</th>\n",
              "      <th>Visitors</th>\n",
              "      <th>Views_platform</th>\n",
              "      <th>Ad_impression</th>\n",
              "      <th>Cricket_match_india</th>\n",
              "      <th>Character_A</th>\n",
              "      <th>day</th>\n",
              "      <th>weekday</th>\n",
              "      <th>weekend</th>\n",
              "      <th>Lag_Views</th>\n",
              "      <th>ad_impression_million</th>\n",
              "    </tr>\n",
              "  </thead>\n",
              "  <tbody>\n",
              "    <tr>\n",
              "      <th>0</th>\n",
              "      <td>2017-03-01</td>\n",
              "      <td>183738</td>\n",
              "      <td>1260228</td>\n",
              "      <td>1706478</td>\n",
              "      <td>1060860448</td>\n",
              "      <td>0</td>\n",
              "      <td>0</td>\n",
              "      <td>1</td>\n",
              "      <td>4</td>\n",
              "      <td>0</td>\n",
              "      <td>0</td>\n",
              "      <td>1060.860448</td>\n",
              "    </tr>\n",
              "    <tr>\n",
              "      <th>1</th>\n",
              "      <td>2017-03-02</td>\n",
              "      <td>193763</td>\n",
              "      <td>1270561</td>\n",
              "      <td>1690727</td>\n",
              "      <td>1031846645</td>\n",
              "      <td>0</td>\n",
              "      <td>0</td>\n",
              "      <td>2</td>\n",
              "      <td>5</td>\n",
              "      <td>0</td>\n",
              "      <td>183738</td>\n",
              "      <td>1031.846645</td>\n",
              "    </tr>\n",
              "    <tr>\n",
              "      <th>2</th>\n",
              "      <td>2017-03-03</td>\n",
              "      <td>210479</td>\n",
              "      <td>1248183</td>\n",
              "      <td>1726157</td>\n",
              "      <td>1010867575</td>\n",
              "      <td>0</td>\n",
              "      <td>0</td>\n",
              "      <td>3</td>\n",
              "      <td>6</td>\n",
              "      <td>0</td>\n",
              "      <td>193763</td>\n",
              "      <td>1010.867575</td>\n",
              "    </tr>\n",
              "    <tr>\n",
              "      <th>3</th>\n",
              "      <td>2017-03-04</td>\n",
              "      <td>240061</td>\n",
              "      <td>1492913</td>\n",
              "      <td>1855353</td>\n",
              "      <td>1079194579</td>\n",
              "      <td>1</td>\n",
              "      <td>0</td>\n",
              "      <td>4</td>\n",
              "      <td>7</td>\n",
              "      <td>1</td>\n",
              "      <td>210479</td>\n",
              "      <td>1079.194579</td>\n",
              "    </tr>\n",
              "    <tr>\n",
              "      <th>4</th>\n",
              "      <td>2017-03-05</td>\n",
              "      <td>446314</td>\n",
              "      <td>1594712</td>\n",
              "      <td>2041418</td>\n",
              "      <td>1357736987</td>\n",
              "      <td>0</td>\n",
              "      <td>0</td>\n",
              "      <td>5</td>\n",
              "      <td>1</td>\n",
              "      <td>1</td>\n",
              "      <td>240061</td>\n",
              "      <td>1357.736987</td>\n",
              "    </tr>\n",
              "  </tbody>\n",
              "</table>\n",
              "</div>"
            ],
            "text/plain": [
              "        Date  Views_show  Visitors  ...  weekend  Lag_Views  ad_impression_million\n",
              "0 2017-03-01      183738   1260228  ...        0          0            1060.860448\n",
              "1 2017-03-02      193763   1270561  ...        0     183738            1031.846645\n",
              "2 2017-03-03      210479   1248183  ...        0     193763            1010.867575\n",
              "3 2017-03-04      240061   1492913  ...        1     210479            1079.194579\n",
              "4 2017-03-05      446314   1594712  ...        1     240061            1357.736987\n",
              "\n",
              "[5 rows x 12 columns]"
            ]
          },
          "metadata": {
            "tags": []
          },
          "execution_count": 69
        }
      ]
    },
    {
      "cell_type": "markdown",
      "metadata": {
        "id": "XNdgHeZA4d9m",
        "colab_type": "text"
      },
      "source": [
        "#### Running second model (lm2) visitors & weekend"
      ]
    },
    {
      "cell_type": "code",
      "metadata": {
        "id": "9mLl2SqP4d9n",
        "colab_type": "code",
        "colab": {}
      },
      "source": [
        "# Putting feature variable to X\n",
        "X = media[['Visitors','weekend']]\n",
        "\n",
        "# Putting response variable to y\n",
        "y = media['Views_show']"
      ],
      "execution_count": 70,
      "outputs": []
    },
    {
      "cell_type": "code",
      "metadata": {
        "id": "xOXNmUDP4d9p",
        "colab_type": "code",
        "colab": {
          "base_uri": "https://localhost:8080/",
          "height": 487
        },
        "outputId": "3e076d3e-5d10-44d8-962d-5d7866c13fc4"
      },
      "source": [
        "import statsmodels.api as sm\n",
        "#Unlike SKLearn, statsmodels don't automatically fit a constant, \n",
        "#so you need to use the method sm.add_constant(X) in order to add a constant. \n",
        "X = sm.add_constant(X)\n",
        "# create a fitted model in one line\n",
        "lm_2 = sm.OLS(y,X).fit()\n",
        "print(lm_2.summary())"
      ],
      "execution_count": 71,
      "outputs": [
        {
          "output_type": "stream",
          "text": [
            "                            OLS Regression Results                            \n",
            "==============================================================================\n",
            "Dep. Variable:             Views_show   R-squared:                       0.500\n",
            "Model:                            OLS   Adj. R-squared:                  0.487\n",
            "Method:                 Least Squares   F-statistic:                     38.55\n",
            "Date:                Tue, 22 Sep 2020   Prob (F-statistic):           2.51e-12\n",
            "Time:                        03:46:35   Log-Likelihood:                -1041.3\n",
            "No. Observations:                  80   AIC:                             2089.\n",
            "Df Residuals:                      77   BIC:                             2096.\n",
            "Df Model:                           2                                         \n",
            "Covariance Type:            nonrobust                                         \n",
            "==============================================================================\n",
            "                 coef    std err          t      P>|t|      [0.025      0.975]\n",
            "------------------------------------------------------------------------------\n",
            "const      -8.833e+04   1.01e+05     -0.875      0.384   -2.89e+05    1.13e+05\n",
            "Visitors       0.1934      0.061      3.160      0.002       0.071       0.315\n",
            "weekend     1.807e+05   3.15e+04      5.740      0.000    1.18e+05    2.43e+05\n",
            "==============================================================================\n",
            "Omnibus:                        1.302   Durbin-Watson:                   1.254\n",
            "Prob(Omnibus):                  0.521   Jarque-Bera (JB):                1.367\n",
            "Skew:                           0.270   Prob(JB):                        0.505\n",
            "Kurtosis:                       2.656   Cond. No.                     1.41e+07\n",
            "==============================================================================\n",
            "\n",
            "Warnings:\n",
            "[1] Standard Errors assume that the covariance matrix of the errors is correctly specified.\n",
            "[2] The condition number is large, 1.41e+07. This might indicate that there are\n",
            "strong multicollinearity or other numerical problems.\n"
          ],
          "name": "stdout"
        }
      ]
    },
    {
      "cell_type": "markdown",
      "metadata": {
        "id": "Xmu477tl4d9r",
        "colab_type": "text"
      },
      "source": [
        "#### Running third model (lm3) visitors, weekend & Character_A"
      ]
    },
    {
      "cell_type": "code",
      "metadata": {
        "id": "uND65S0i4d9r",
        "colab_type": "code",
        "colab": {}
      },
      "source": [
        "# Putting feature variable to X\n",
        "X = media[['Visitors','weekend','Character_A']]\n",
        "\n",
        "# Putting response variable to y\n",
        "y = media['Views_show']"
      ],
      "execution_count": 72,
      "outputs": []
    },
    {
      "cell_type": "code",
      "metadata": {
        "id": "cRv0yNfR4d9w",
        "colab_type": "code",
        "colab": {
          "base_uri": "https://localhost:8080/",
          "height": 504
        },
        "outputId": "6ab5a68c-136a-4718-f7a4-a270cca68e54"
      },
      "source": [
        "import statsmodels.api as sm\n",
        "#Unlike SKLearn, statsmodels don't automatically fit a constant, \n",
        "#so you need to use the method sm.add_constant(X) in order to add a constant. \n",
        "X = sm.add_constant(X)\n",
        "# create a fitted model in one line\n",
        "lm_3 = sm.OLS(y,X).fit()\n",
        "print(lm_3.summary())"
      ],
      "execution_count": 73,
      "outputs": [
        {
          "output_type": "stream",
          "text": [
            "                            OLS Regression Results                            \n",
            "==============================================================================\n",
            "Dep. Variable:             Views_show   R-squared:                       0.586\n",
            "Model:                            OLS   Adj. R-squared:                  0.570\n",
            "Method:                 Least Squares   F-statistic:                     35.84\n",
            "Date:                Tue, 22 Sep 2020   Prob (F-statistic):           1.53e-14\n",
            "Time:                        03:46:37   Log-Likelihood:                -1033.8\n",
            "No. Observations:                  80   AIC:                             2076.\n",
            "Df Residuals:                      76   BIC:                             2085.\n",
            "Df Model:                           3                                         \n",
            "Covariance Type:            nonrobust                                         \n",
            "===============================================================================\n",
            "                  coef    std err          t      P>|t|      [0.025      0.975]\n",
            "-------------------------------------------------------------------------------\n",
            "const       -4.722e+04   9.31e+04     -0.507      0.613   -2.33e+05    1.38e+05\n",
            "Visitors        0.1480      0.057      2.586      0.012       0.034       0.262\n",
            "weekend      1.812e+05   2.89e+04      6.281      0.000    1.24e+05    2.39e+05\n",
            "Character_A  9.542e+04   2.41e+04      3.963      0.000    4.75e+04    1.43e+05\n",
            "==============================================================================\n",
            "Omnibus:                        0.908   Durbin-Watson:                   1.600\n",
            "Prob(Omnibus):                  0.635   Jarque-Bera (JB):                0.876\n",
            "Skew:                          -0.009   Prob(JB):                        0.645\n",
            "Kurtosis:                       2.488   Cond. No.                     1.42e+07\n",
            "==============================================================================\n",
            "\n",
            "Warnings:\n",
            "[1] Standard Errors assume that the covariance matrix of the errors is correctly specified.\n",
            "[2] The condition number is large, 1.42e+07. This might indicate that there are\n",
            "strong multicollinearity or other numerical problems.\n"
          ],
          "name": "stdout"
        }
      ]
    },
    {
      "cell_type": "code",
      "metadata": {
        "id": "UeaV0P114d9y",
        "colab_type": "code",
        "colab": {}
      },
      "source": [
        "# Create lag variable\n",
        "media['Lag_Views'] = np.roll(media['Views_show'], 1)\n",
        "media.Lag_Views.replace(108961,0, inplace=True)"
      ],
      "execution_count": 74,
      "outputs": []
    },
    {
      "cell_type": "code",
      "metadata": {
        "id": "UkIRmeGr4d91",
        "colab_type": "code",
        "colab": {
          "base_uri": "https://localhost:8080/",
          "height": 531
        },
        "outputId": "3ad76db4-0d47-47f3-d09c-b94630be23d6"
      },
      "source": [
        "media.head(10)\n"
      ],
      "execution_count": 75,
      "outputs": [
        {
          "output_type": "execute_result",
          "data": {
            "text/html": [
              "<div>\n",
              "<style scoped>\n",
              "    .dataframe tbody tr th:only-of-type {\n",
              "        vertical-align: middle;\n",
              "    }\n",
              "\n",
              "    .dataframe tbody tr th {\n",
              "        vertical-align: top;\n",
              "    }\n",
              "\n",
              "    .dataframe thead th {\n",
              "        text-align: right;\n",
              "    }\n",
              "</style>\n",
              "<table border=\"1\" class=\"dataframe\">\n",
              "  <thead>\n",
              "    <tr style=\"text-align: right;\">\n",
              "      <th></th>\n",
              "      <th>Date</th>\n",
              "      <th>Views_show</th>\n",
              "      <th>Visitors</th>\n",
              "      <th>Views_platform</th>\n",
              "      <th>Ad_impression</th>\n",
              "      <th>Cricket_match_india</th>\n",
              "      <th>Character_A</th>\n",
              "      <th>day</th>\n",
              "      <th>weekday</th>\n",
              "      <th>weekend</th>\n",
              "      <th>Lag_Views</th>\n",
              "      <th>ad_impression_million</th>\n",
              "    </tr>\n",
              "  </thead>\n",
              "  <tbody>\n",
              "    <tr>\n",
              "      <th>0</th>\n",
              "      <td>2017-03-01</td>\n",
              "      <td>183738</td>\n",
              "      <td>1260228</td>\n",
              "      <td>1706478</td>\n",
              "      <td>1060860448</td>\n",
              "      <td>0</td>\n",
              "      <td>0</td>\n",
              "      <td>1</td>\n",
              "      <td>4</td>\n",
              "      <td>0</td>\n",
              "      <td>0</td>\n",
              "      <td>1060.860448</td>\n",
              "    </tr>\n",
              "    <tr>\n",
              "      <th>1</th>\n",
              "      <td>2017-03-02</td>\n",
              "      <td>193763</td>\n",
              "      <td>1270561</td>\n",
              "      <td>1690727</td>\n",
              "      <td>1031846645</td>\n",
              "      <td>0</td>\n",
              "      <td>0</td>\n",
              "      <td>2</td>\n",
              "      <td>5</td>\n",
              "      <td>0</td>\n",
              "      <td>183738</td>\n",
              "      <td>1031.846645</td>\n",
              "    </tr>\n",
              "    <tr>\n",
              "      <th>2</th>\n",
              "      <td>2017-03-03</td>\n",
              "      <td>210479</td>\n",
              "      <td>1248183</td>\n",
              "      <td>1726157</td>\n",
              "      <td>1010867575</td>\n",
              "      <td>0</td>\n",
              "      <td>0</td>\n",
              "      <td>3</td>\n",
              "      <td>6</td>\n",
              "      <td>0</td>\n",
              "      <td>193763</td>\n",
              "      <td>1010.867575</td>\n",
              "    </tr>\n",
              "    <tr>\n",
              "      <th>3</th>\n",
              "      <td>2017-03-04</td>\n",
              "      <td>240061</td>\n",
              "      <td>1492913</td>\n",
              "      <td>1855353</td>\n",
              "      <td>1079194579</td>\n",
              "      <td>1</td>\n",
              "      <td>0</td>\n",
              "      <td>4</td>\n",
              "      <td>7</td>\n",
              "      <td>1</td>\n",
              "      <td>210479</td>\n",
              "      <td>1079.194579</td>\n",
              "    </tr>\n",
              "    <tr>\n",
              "      <th>4</th>\n",
              "      <td>2017-03-05</td>\n",
              "      <td>446314</td>\n",
              "      <td>1594712</td>\n",
              "      <td>2041418</td>\n",
              "      <td>1357736987</td>\n",
              "      <td>0</td>\n",
              "      <td>0</td>\n",
              "      <td>5</td>\n",
              "      <td>1</td>\n",
              "      <td>1</td>\n",
              "      <td>240061</td>\n",
              "      <td>1357.736987</td>\n",
              "    </tr>\n",
              "    <tr>\n",
              "      <th>5</th>\n",
              "      <td>2017-03-06</td>\n",
              "      <td>342997</td>\n",
              "      <td>1330689</td>\n",
              "      <td>1742540</td>\n",
              "      <td>1140228426</td>\n",
              "      <td>0</td>\n",
              "      <td>0</td>\n",
              "      <td>6</td>\n",
              "      <td>2</td>\n",
              "      <td>0</td>\n",
              "      <td>446314</td>\n",
              "      <td>1140.228426</td>\n",
              "    </tr>\n",
              "    <tr>\n",
              "      <th>6</th>\n",
              "      <td>2017-03-07</td>\n",
              "      <td>227313</td>\n",
              "      <td>1363579</td>\n",
              "      <td>1821742</td>\n",
              "      <td>1113811802</td>\n",
              "      <td>0</td>\n",
              "      <td>0</td>\n",
              "      <td>7</td>\n",
              "      <td>3</td>\n",
              "      <td>0</td>\n",
              "      <td>342997</td>\n",
              "      <td>1113.811802</td>\n",
              "    </tr>\n",
              "    <tr>\n",
              "      <th>7</th>\n",
              "      <td>2017-03-08</td>\n",
              "      <td>180313</td>\n",
              "      <td>1353483</td>\n",
              "      <td>1795456</td>\n",
              "      <td>1083475096</td>\n",
              "      <td>0</td>\n",
              "      <td>0</td>\n",
              "      <td>8</td>\n",
              "      <td>4</td>\n",
              "      <td>0</td>\n",
              "      <td>227313</td>\n",
              "      <td>1083.475096</td>\n",
              "    </tr>\n",
              "    <tr>\n",
              "      <th>8</th>\n",
              "      <td>2017-03-09</td>\n",
              "      <td>178800</td>\n",
              "      <td>1345428</td>\n",
              "      <td>1794157</td>\n",
              "      <td>1067636147</td>\n",
              "      <td>0</td>\n",
              "      <td>0</td>\n",
              "      <td>9</td>\n",
              "      <td>5</td>\n",
              "      <td>0</td>\n",
              "      <td>180313</td>\n",
              "      <td>1067.636147</td>\n",
              "    </tr>\n",
              "    <tr>\n",
              "      <th>9</th>\n",
              "      <td>2017-03-10</td>\n",
              "      <td>201180</td>\n",
              "      <td>1344540</td>\n",
              "      <td>1834967</td>\n",
              "      <td>1081234843</td>\n",
              "      <td>0</td>\n",
              "      <td>0</td>\n",
              "      <td>10</td>\n",
              "      <td>6</td>\n",
              "      <td>0</td>\n",
              "      <td>178800</td>\n",
              "      <td>1081.234843</td>\n",
              "    </tr>\n",
              "  </tbody>\n",
              "</table>\n",
              "</div>"
            ],
            "text/plain": [
              "        Date  Views_show  Visitors  ...  weekend  Lag_Views  ad_impression_million\n",
              "0 2017-03-01      183738   1260228  ...        0          0            1060.860448\n",
              "1 2017-03-02      193763   1270561  ...        0     183738            1031.846645\n",
              "2 2017-03-03      210479   1248183  ...        0     193763            1010.867575\n",
              "3 2017-03-04      240061   1492913  ...        1     210479            1079.194579\n",
              "4 2017-03-05      446314   1594712  ...        1     240061            1357.736987\n",
              "5 2017-03-06      342997   1330689  ...        0     446314            1140.228426\n",
              "6 2017-03-07      227313   1363579  ...        0     342997            1113.811802\n",
              "7 2017-03-08      180313   1353483  ...        0     227313            1083.475096\n",
              "8 2017-03-09      178800   1345428  ...        0     180313            1067.636147\n",
              "9 2017-03-10      201180   1344540  ...        0     178800            1081.234843\n",
              "\n",
              "[10 rows x 12 columns]"
            ]
          },
          "metadata": {
            "tags": []
          },
          "execution_count": 75
        }
      ]
    },
    {
      "cell_type": "markdown",
      "metadata": {
        "id": "l-9zaZJp4d93",
        "colab_type": "text"
      },
      "source": [
        "#### Running fourth model (lm4) visitors, Character_A, Lag_views & weekend"
      ]
    },
    {
      "cell_type": "code",
      "metadata": {
        "id": "FkWsb4qG4d93",
        "colab_type": "code",
        "colab": {}
      },
      "source": [
        "# Putting feature variable to X\n",
        "X = media[['Visitors','Character_A','Lag_Views','weekend']]\n",
        "\n",
        "# Putting response variable to y\n",
        "y = media['Views_show']"
      ],
      "execution_count": 76,
      "outputs": []
    },
    {
      "cell_type": "code",
      "metadata": {
        "id": "8cwqDBcZ4d95",
        "colab_type": "code",
        "colab": {
          "base_uri": "https://localhost:8080/",
          "height": 521
        },
        "outputId": "0802174b-ec07-40e3-e4ca-ec0c776f6253"
      },
      "source": [
        "import statsmodels.api as sm\n",
        "#Unlike SKLearn, statsmodels don't automatically fit a constant, \n",
        "#so you need to use the method sm.add_constant(X) in order to add a constant. \n",
        "X = sm.add_constant(X)\n",
        "# create a fitted model in one line\n",
        "lm_4 = sm.OLS(y,X).fit()\n",
        "print(lm_4.summary())"
      ],
      "execution_count": 77,
      "outputs": [
        {
          "output_type": "stream",
          "text": [
            "                            OLS Regression Results                            \n",
            "==============================================================================\n",
            "Dep. Variable:             Views_show   R-squared:                       0.740\n",
            "Model:                            OLS   Adj. R-squared:                  0.726\n",
            "Method:                 Least Squares   F-statistic:                     53.46\n",
            "Date:                Tue, 22 Sep 2020   Prob (F-statistic):           3.16e-21\n",
            "Time:                        03:46:38   Log-Likelihood:                -1015.1\n",
            "No. Observations:                  80   AIC:                             2040.\n",
            "Df Residuals:                      75   BIC:                             2052.\n",
            "Df Model:                           4                                         \n",
            "Covariance Type:            nonrobust                                         \n",
            "===============================================================================\n",
            "                  coef    std err          t      P>|t|      [0.025      0.975]\n",
            "-------------------------------------------------------------------------------\n",
            "const        -2.98e+04   7.43e+04     -0.401      0.689   -1.78e+05    1.18e+05\n",
            "Visitors        0.0659      0.047      1.394      0.167      -0.028       0.160\n",
            "Character_A  5.527e+04   2.01e+04      2.748      0.008    1.52e+04    9.53e+04\n",
            "Lag_Views       0.4317      0.065      6.679      0.000       0.303       0.560\n",
            "weekend      2.273e+05    2.4e+04      9.467      0.000    1.79e+05    2.75e+05\n",
            "==============================================================================\n",
            "Omnibus:                        1.425   Durbin-Watson:                   2.626\n",
            "Prob(Omnibus):                  0.491   Jarque-Bera (JB):                0.821\n",
            "Skew:                          -0.130   Prob(JB):                        0.663\n",
            "Kurtosis:                       3.423   Cond. No.                     1.44e+07\n",
            "==============================================================================\n",
            "\n",
            "Warnings:\n",
            "[1] Standard Errors assume that the covariance matrix of the errors is correctly specified.\n",
            "[2] The condition number is large, 1.44e+07. This might indicate that there are\n",
            "strong multicollinearity or other numerical problems.\n"
          ],
          "name": "stdout"
        }
      ]
    },
    {
      "cell_type": "code",
      "metadata": {
        "id": "PzG8viDC4d97",
        "colab_type": "code",
        "colab": {
          "base_uri": "https://localhost:8080/",
          "height": 698
        },
        "outputId": "9207b221-3c83-42e5-d0c3-2795030db4c8"
      },
      "source": [
        "plt.figure(figsize = (20,10))        # Size of the figure\n",
        "sns.heatmap(media.corr(),annot = True)"
      ],
      "execution_count": 78,
      "outputs": [
        {
          "output_type": "execute_result",
          "data": {
            "text/plain": [
              "<matplotlib.axes._subplots.AxesSubplot at 0x7fa3349c6c88>"
            ]
          },
          "metadata": {
            "tags": []
          },
          "execution_count": 78
        },
        {
          "output_type": "display_data",
          "data": {
            "image/png": "[encoded data removed]",
            "text/plain": [
              "<Figure size 1440x720 with 2 Axes>"
            ]
          },
          "metadata": {
            "tags": [],
            "needs_background": "light"
          }
        }
      ]
    },
    {
      "cell_type": "markdown",
      "metadata": {
        "id": "Tw65XAPe4d9-",
        "colab_type": "text"
      },
      "source": [
        "#### Running fifth model (lm5) Character_A, weekend & Views_platform"
      ]
    },
    {
      "cell_type": "code",
      "metadata": {
        "id": "1TX1b01t4d9_",
        "colab_type": "code",
        "colab": {}
      },
      "source": [
        "# Putting feature variable to X\n",
        "X = media[['weekend','Character_A','Views_platform']]\n",
        "\n",
        "# Putting response variable to y\n",
        "y = media['Views_show']"
      ],
      "execution_count": 79,
      "outputs": []
    },
    {
      "cell_type": "code",
      "metadata": {
        "id": "S8Q0jt3j4d-C",
        "colab_type": "code",
        "colab": {
          "base_uri": "https://localhost:8080/",
          "height": 504
        },
        "outputId": "44bb736d-64cb-4c19-aebc-f02bf737b44a"
      },
      "source": [
        "import statsmodels.api as sm\n",
        "#Unlike SKLearn, statsmodels don't automatically fit a constant, \n",
        "#so you need to use the method sm.add_constant(X) in order to add a constant. \n",
        "X = sm.add_constant(X)\n",
        "# create a fitted model in one line\n",
        "lm_5 = sm.OLS(y,X).fit()\n",
        "print(lm_5.summary())"
      ],
      "execution_count": 80,
      "outputs": [
        {
          "output_type": "stream",
          "text": [
            "                            OLS Regression Results                            \n",
            "==============================================================================\n",
            "Dep. Variable:             Views_show   R-squared:                       0.602\n",
            "Model:                            OLS   Adj. R-squared:                  0.586\n",
            "Method:                 Least Squares   F-statistic:                     38.24\n",
            "Date:                Tue, 22 Sep 2020   Prob (F-statistic):           3.59e-15\n",
            "Time:                        03:46:40   Log-Likelihood:                -1032.3\n",
            "No. Observations:                  80   AIC:                             2073.\n",
            "Df Residuals:                      76   BIC:                             2082.\n",
            "Df Model:                           3                                         \n",
            "Covariance Type:            nonrobust                                         \n",
            "==================================================================================\n",
            "                     coef    std err          t      P>|t|      [0.025      0.975]\n",
            "----------------------------------------------------------------------------------\n",
            "const          -1.205e+05   9.97e+04     -1.208      0.231   -3.19e+05    7.81e+04\n",
            "weekend         1.781e+05   2.78e+04      6.410      0.000    1.23e+05    2.33e+05\n",
            "Character_A     7.062e+04    2.6e+04      2.717      0.008    1.89e+04    1.22e+05\n",
            "Views_platform     0.1507      0.048      3.152      0.002       0.055       0.246\n",
            "==============================================================================\n",
            "Omnibus:                        4.279   Durbin-Watson:                   1.516\n",
            "Prob(Omnibus):                  0.118   Jarque-Bera (JB):                2.153\n",
            "Skew:                           0.061   Prob(JB):                        0.341\n",
            "Kurtosis:                       2.206   Cond. No.                     2.03e+07\n",
            "==============================================================================\n",
            "\n",
            "Warnings:\n",
            "[1] Standard Errors assume that the covariance matrix of the errors is correctly specified.\n",
            "[2] The condition number is large, 2.03e+07. This might indicate that there are\n",
            "strong multicollinearity or other numerical problems.\n"
          ],
          "name": "stdout"
        }
      ]
    },
    {
      "cell_type": "markdown",
      "metadata": {
        "id": "9uKo094Q4d-E",
        "colab_type": "text"
      },
      "source": [
        "#### Running sixth model (lm6) Character_A, weekend & Visitors"
      ]
    },
    {
      "cell_type": "code",
      "metadata": {
        "id": "tfKyY47f4d-E",
        "colab_type": "code",
        "colab": {}
      },
      "source": [
        "# Putting feature variable to X\n",
        "X = media[['weekend','Character_A','Visitors']]\n",
        "\n",
        "# Putting response variable to y\n",
        "y = media['Views_show']"
      ],
      "execution_count": 81,
      "outputs": []
    },
    {
      "cell_type": "code",
      "metadata": {
        "id": "i57ObxpD4d-G",
        "colab_type": "code",
        "colab": {
          "base_uri": "https://localhost:8080/",
          "height": 504
        },
        "outputId": "ac4fc7c3-b5e7-43ac-aa69-bb0a46a36428"
      },
      "source": [
        "import statsmodels.api as sm\n",
        "#Unlike SKLearn, statsmodels don't automatically fit a constant, \n",
        "#so you need to use the method sm.add_constant(X) in order to add a constant. \n",
        "X = sm.add_constant(X)\n",
        "# create a fitted model in one line\n",
        "lm_6 = sm.OLS(y,X).fit()\n",
        "print(lm_6.summary())"
      ],
      "execution_count": 82,
      "outputs": [
        {
          "output_type": "stream",
          "text": [
            "                            OLS Regression Results                            \n",
            "==============================================================================\n",
            "Dep. Variable:             Views_show   R-squared:                       0.586\n",
            "Model:                            OLS   Adj. R-squared:                  0.570\n",
            "Method:                 Least Squares   F-statistic:                     35.84\n",
            "Date:                Tue, 22 Sep 2020   Prob (F-statistic):           1.53e-14\n",
            "Time:                        03:46:42   Log-Likelihood:                -1033.8\n",
            "No. Observations:                  80   AIC:                             2076.\n",
            "Df Residuals:                      76   BIC:                             2085.\n",
            "Df Model:                           3                                         \n",
            "Covariance Type:            nonrobust                                         \n",
            "===============================================================================\n",
            "                  coef    std err          t      P>|t|      [0.025      0.975]\n",
            "-------------------------------------------------------------------------------\n",
            "const       -4.722e+04   9.31e+04     -0.507      0.613   -2.33e+05    1.38e+05\n",
            "weekend      1.812e+05   2.89e+04      6.281      0.000    1.24e+05    2.39e+05\n",
            "Character_A  9.542e+04   2.41e+04      3.963      0.000    4.75e+04    1.43e+05\n",
            "Visitors        0.1480      0.057      2.586      0.012       0.034       0.262\n",
            "==============================================================================\n",
            "Omnibus:                        0.908   Durbin-Watson:                   1.600\n",
            "Prob(Omnibus):                  0.635   Jarque-Bera (JB):                0.876\n",
            "Skew:                          -0.009   Prob(JB):                        0.645\n",
            "Kurtosis:                       2.488   Cond. No.                     1.42e+07\n",
            "==============================================================================\n",
            "\n",
            "Warnings:\n",
            "[1] Standard Errors assume that the covariance matrix of the errors is correctly specified.\n",
            "[2] The condition number is large, 1.42e+07. This might indicate that there are\n",
            "strong multicollinearity or other numerical problems.\n"
          ],
          "name": "stdout"
        }
      ]
    },
    {
      "cell_type": "markdown",
      "metadata": {
        "id": "YOnmirq_4d-I",
        "colab_type": "text"
      },
      "source": [
        "#### Running seventh model (lm7) Character_A, weekend, Visitors & Ad_impressions"
      ]
    },
    {
      "cell_type": "code",
      "metadata": {
        "id": "0v4Q92RD4d-I",
        "colab_type": "code",
        "colab": {}
      },
      "source": [
        "# Putting feature variable to X\n",
        "X = media[['weekend','Character_A','Visitors','Ad_impression']]\n",
        "\n",
        "# Putting response variable to y\n",
        "y = media['Views_show']"
      ],
      "execution_count": 83,
      "outputs": []
    },
    {
      "cell_type": "code",
      "metadata": {
        "id": "Um6704n14d-K",
        "colab_type": "code",
        "colab": {
          "base_uri": "https://localhost:8080/",
          "height": 521
        },
        "outputId": "9df282f1-d2bf-418b-eee0-a3b721b86770"
      },
      "source": [
        "import statsmodels.api as sm\n",
        "#Unlike SKLearn, statsmodels don't automatically fit a constant, \n",
        "#so you need to use the method sm.add_constant(X) in order to add a constant. \n",
        "X = sm.add_constant(X)\n",
        "# create a fitted model in one line\n",
        "lm_7 = sm.OLS(y,X).fit()\n",
        "print(lm_7.summary())"
      ],
      "execution_count": 84,
      "outputs": [
        {
          "output_type": "stream",
          "text": [
            "                            OLS Regression Results                            \n",
            "==============================================================================\n",
            "Dep. Variable:             Views_show   R-squared:                       0.803\n",
            "Model:                            OLS   Adj. R-squared:                  0.792\n",
            "Method:                 Least Squares   F-statistic:                     76.40\n",
            "Date:                Tue, 22 Sep 2020   Prob (F-statistic):           1.10e-25\n",
            "Time:                        03:46:42   Log-Likelihood:                -1004.1\n",
            "No. Observations:                  80   AIC:                             2018.\n",
            "Df Residuals:                      75   BIC:                             2030.\n",
            "Df Model:                           4                                         \n",
            "Covariance Type:            nonrobust                                         \n",
            "=================================================================================\n",
            "                    coef    std err          t      P>|t|      [0.025      0.975]\n",
            "---------------------------------------------------------------------------------\n",
            "const         -2.834e+05   6.97e+04     -4.067      0.000   -4.22e+05   -1.45e+05\n",
            "weekend        1.485e+05   2.04e+04      7.296      0.000    1.08e+05    1.89e+05\n",
            "Character_A   -2.934e+04   2.16e+04     -1.356      0.179   -7.24e+04    1.38e+04\n",
            "Visitors          0.0144      0.042      0.340      0.735      -0.070       0.099\n",
            "Ad_impression     0.0004   3.96e-05      9.090      0.000       0.000       0.000\n",
            "==============================================================================\n",
            "Omnibus:                        4.808   Durbin-Watson:                   1.166\n",
            "Prob(Omnibus):                  0.090   Jarque-Bera (JB):                4.007\n",
            "Skew:                           0.476   Prob(JB):                        0.135\n",
            "Kurtosis:                       3.545   Cond. No.                     1.32e+10\n",
            "==============================================================================\n",
            "\n",
            "Warnings:\n",
            "[1] Standard Errors assume that the covariance matrix of the errors is correctly specified.\n",
            "[2] The condition number is large, 1.32e+10. This might indicate that there are\n",
            "strong multicollinearity or other numerical problems.\n"
          ],
          "name": "stdout"
        }
      ]
    },
    {
      "cell_type": "markdown",
      "metadata": {
        "id": "AM51v_sQ4d-M",
        "colab_type": "text"
      },
      "source": [
        "#### Running eight model (lm8) Character_A, weekend & Ad_impressions"
      ]
    },
    {
      "cell_type": "code",
      "metadata": {
        "id": "gjNveiUP4d-N",
        "colab_type": "code",
        "colab": {}
      },
      "source": [
        "# Putting feature variable to X\n",
        "X = media[['weekend','Character_A','Ad_impression']]\n",
        "\n",
        "# Putting response variable to y\n",
        "y = media['Views_show']"
      ],
      "execution_count": 85,
      "outputs": []
    },
    {
      "cell_type": "code",
      "metadata": {
        "id": "KCV49uJP4d-R",
        "colab_type": "code",
        "colab": {
          "base_uri": "https://localhost:8080/",
          "height": 504
        },
        "outputId": "bbd46c63-5276-4276-c794-ece9add16cda"
      },
      "source": [
        "import statsmodels.api as sm\n",
        "#Unlike SKLearn, statsmodels don't automatically fit a constant, \n",
        "#so you need to use the method sm.add_constant(X) in order to add a constant. \n",
        "X = sm.add_constant(X)\n",
        "# create a fitted model in one line\n",
        "lm_8 = sm.OLS(y,X).fit()\n",
        "print(lm_8.summary())"
      ],
      "execution_count": 86,
      "outputs": [
        {
          "output_type": "stream",
          "text": [
            "                            OLS Regression Results                            \n",
            "==============================================================================\n",
            "Dep. Variable:             Views_show   R-squared:                       0.803\n",
            "Model:                            OLS   Adj. R-squared:                  0.795\n",
            "Method:                 Least Squares   F-statistic:                     103.0\n",
            "Date:                Tue, 22 Sep 2020   Prob (F-statistic):           1.05e-26\n",
            "Time:                        03:46:43   Log-Likelihood:                -1004.2\n",
            "No. Observations:                  80   AIC:                             2016.\n",
            "Df Residuals:                      76   BIC:                             2026.\n",
            "Df Model:                           3                                         \n",
            "Covariance Type:            nonrobust                                         \n",
            "=================================================================================\n",
            "                    coef    std err          t      P>|t|      [0.025      0.975]\n",
            "---------------------------------------------------------------------------------\n",
            "const         -2.661e+05   4.74e+04     -5.609      0.000   -3.61e+05   -1.72e+05\n",
            "weekend         1.51e+05   1.88e+04      8.019      0.000    1.14e+05    1.89e+05\n",
            "Character_A    -2.99e+04   2.14e+04     -1.394      0.167   -7.26e+04    1.28e+04\n",
            "Ad_impression     0.0004   3.69e-05      9.875      0.000       0.000       0.000\n",
            "==============================================================================\n",
            "Omnibus:                        4.723   Durbin-Watson:                   1.169\n",
            "Prob(Omnibus):                  0.094   Jarque-Bera (JB):                3.939\n",
            "Skew:                           0.453   Prob(JB):                        0.139\n",
            "Kurtosis:                       3.601   Cond. No.                     9.26e+09\n",
            "==============================================================================\n",
            "\n",
            "Warnings:\n",
            "[1] Standard Errors assume that the covariance matrix of the errors is correctly specified.\n",
            "[2] The condition number is large, 9.26e+09. This might indicate that there are\n",
            "strong multicollinearity or other numerical problems.\n"
          ],
          "name": "stdout"
        }
      ]
    },
    {
      "cell_type": "code",
      "metadata": {
        "id": "Vz8SSq-l4d-U",
        "colab_type": "code",
        "colab": {}
      },
      "source": [
        "#Ad impression in million\n",
        "media['ad_impression_million'] = media['Ad_impression']/1000000"
      ],
      "execution_count": 87,
      "outputs": []
    },
    {
      "cell_type": "markdown",
      "metadata": {
        "id": "Yg39ttGE4d-W",
        "colab_type": "text"
      },
      "source": [
        "#### Running seventh model (lm7) Character_A, weekend, Visitors, ad_impressions_million & Cricket_match_india"
      ]
    },
    {
      "cell_type": "code",
      "metadata": {
        "id": "y0oPIuTa4d-W",
        "colab_type": "code",
        "colab": {}
      },
      "source": [
        "# Putting feature variable to X\n",
        "X = media[['weekend','Character_A','ad_impression_million','Cricket_match_india']]\n",
        "\n",
        "# Putting response variable to y\n",
        "y = media['Views_show']"
      ],
      "execution_count": 88,
      "outputs": []
    },
    {
      "cell_type": "code",
      "metadata": {
        "id": "n9jXUWDd4d-Z",
        "colab_type": "code",
        "colab": {
          "base_uri": "https://localhost:8080/",
          "height": 521
        },
        "outputId": "f968aa43-36cb-49d9-cc10-3cf37e4ef360"
      },
      "source": [
        "import statsmodels.api as sm\n",
        "#Unlike SKLearn, statsmodels don't automatically fit a constant, \n",
        "#so you need to use the method sm.add_constant(X) in order to add a constant. \n",
        "X = sm.add_constant(X)\n",
        "# create a fitted model in one line\n",
        "lm_9 = sm.OLS(y,X).fit()\n",
        "print(lm_9.summary())"
      ],
      "execution_count": 89,
      "outputs": [
        {
          "output_type": "stream",
          "text": [
            "                            OLS Regression Results                            \n",
            "==============================================================================\n",
            "Dep. Variable:             Views_show   R-squared:                       0.803\n",
            "Model:                            OLS   Adj. R-squared:                  0.793\n",
            "Method:                 Least Squares   F-statistic:                     76.59\n",
            "Date:                Tue, 22 Sep 2020   Prob (F-statistic):           1.02e-25\n",
            "Time:                        03:46:43   Log-Likelihood:                -1004.0\n",
            "No. Observations:                  80   AIC:                             2018.\n",
            "Df Residuals:                      75   BIC:                             2030.\n",
            "Df Model:                           4                                         \n",
            "Covariance Type:            nonrobust                                         \n",
            "=========================================================================================\n",
            "                            coef    std err          t      P>|t|      [0.025      0.975]\n",
            "-----------------------------------------------------------------------------------------\n",
            "const                 -2.633e+05    4.8e+04     -5.484      0.000   -3.59e+05   -1.68e+05\n",
            "weekend                1.521e+05    1.9e+04      7.987      0.000    1.14e+05     1.9e+05\n",
            "Character_A           -3.196e+04   2.19e+04     -1.457      0.149   -7.57e+04    1.17e+04\n",
            "ad_impression_million   363.7938     37.113      9.802      0.000     289.861     437.727\n",
            "Cricket_match_india   -1.396e+04   2.74e+04     -0.510      0.612   -6.85e+04    4.06e+04\n",
            "==============================================================================\n",
            "Omnibus:                        5.270   Durbin-Watson:                   1.161\n",
            "Prob(Omnibus):                  0.072   Jarque-Bera (JB):                4.560\n",
            "Skew:                           0.468   Prob(JB):                        0.102\n",
            "Kurtosis:                       3.701   Cond. No.                     9.32e+03\n",
            "==============================================================================\n",
            "\n",
            "Warnings:\n",
            "[1] Standard Errors assume that the covariance matrix of the errors is correctly specified.\n",
            "[2] The condition number is large, 9.32e+03. This might indicate that there are\n",
            "strong multicollinearity or other numerical problems.\n"
          ],
          "name": "stdout"
        }
      ]
    },
    {
      "cell_type": "markdown",
      "metadata": {
        "id": "Vqa5TtBI4d-b",
        "colab_type": "text"
      },
      "source": [
        "#### Running seventh model (lm7) Character_A, weekend & ad_impressions_million"
      ]
    },
    {
      "cell_type": "code",
      "metadata": {
        "id": "gzXYUEpH4d-b",
        "colab_type": "code",
        "colab": {}
      },
      "source": [
        "# Putting feature variable to X\n",
        "X = media[['weekend','Character_A','ad_impression_million']]\n",
        "\n",
        "# Putting response variable to y\n",
        "y = media['Views_show']"
      ],
      "execution_count": 90,
      "outputs": []
    },
    {
      "cell_type": "code",
      "metadata": {
        "id": "WN9JG9mj4d-d",
        "colab_type": "code",
        "colab": {
          "base_uri": "https://localhost:8080/",
          "height": 504
        },
        "outputId": "7d6c188d-f032-4cc2-f011-451a89bb32a0"
      },
      "source": [
        "import statsmodels.api as sm\n",
        "#Unlike SKLearn, statsmodels don't automatically fit a constant, \n",
        "#so you need to use the method sm.add_constant(X) in order to add a constant. \n",
        "X = sm.add_constant(X)\n",
        "# create a fitted model in one line\n",
        "lm_10 = sm.OLS(y,X).fit()\n",
        "print(lm_10.summary())"
      ],
      "execution_count": 91,
      "outputs": [
        {
          "output_type": "stream",
          "text": [
            "                            OLS Regression Results                            \n",
            "==============================================================================\n",
            "Dep. Variable:             Views_show   R-squared:                       0.803\n",
            "Model:                            OLS   Adj. R-squared:                  0.795\n",
            "Method:                 Least Squares   F-statistic:                     103.0\n",
            "Date:                Tue, 22 Sep 2020   Prob (F-statistic):           1.05e-26\n",
            "Time:                        03:46:45   Log-Likelihood:                -1004.2\n",
            "No. Observations:                  80   AIC:                             2016.\n",
            "Df Residuals:                      76   BIC:                             2026.\n",
            "Df Model:                           3                                         \n",
            "Covariance Type:            nonrobust                                         \n",
            "=========================================================================================\n",
            "                            coef    std err          t      P>|t|      [0.025      0.975]\n",
            "-----------------------------------------------------------------------------------------\n",
            "const                 -2.661e+05   4.74e+04     -5.609      0.000   -3.61e+05   -1.72e+05\n",
            "weekend                 1.51e+05   1.88e+04      8.019      0.000    1.14e+05    1.89e+05\n",
            "Character_A            -2.99e+04   2.14e+04     -1.394      0.167   -7.26e+04    1.28e+04\n",
            "ad_impression_million   364.4670     36.909      9.875      0.000     290.957     437.977\n",
            "==============================================================================\n",
            "Omnibus:                        4.723   Durbin-Watson:                   1.169\n",
            "Prob(Omnibus):                  0.094   Jarque-Bera (JB):                3.939\n",
            "Skew:                           0.453   Prob(JB):                        0.139\n",
            "Kurtosis:                       3.601   Cond. No.                     9.26e+03\n",
            "==============================================================================\n",
            "\n",
            "Warnings:\n",
            "[1] Standard Errors assume that the covariance matrix of the errors is correctly specified.\n",
            "[2] The condition number is large, 9.26e+03. This might indicate that there are\n",
            "strong multicollinearity or other numerical problems.\n"
          ],
          "name": "stdout"
        }
      ]
    },
    {
      "cell_type": "markdown",
      "metadata": {
        "id": "cGyq-BI04d-h",
        "colab_type": "text"
      },
      "source": [
        "#### Making predictions using lm10"
      ]
    },
    {
      "cell_type": "code",
      "metadata": {
        "id": "YdWaL1J04d-h",
        "colab_type": "code",
        "colab": {}
      },
      "source": [
        "# Making predictions using the model\n",
        "X = media[['weekend','Character_A','ad_impression_million']]\n",
        "X = sm.add_constant(X)\n",
        "Predicted_views = lm_10.predict(X)"
      ],
      "execution_count": 92,
      "outputs": []
    },
    {
      "cell_type": "code",
      "metadata": {
        "id": "eVgtSOPS4d-l",
        "colab_type": "code",
        "colab": {}
      },
      "source": [
        "from sklearn.metrics import mean_squared_error, r2_score\n",
        "mse = mean_squared_error(media.Views_show, Predicted_views)\n",
        "r_squared = r2_score(media.Views_show, Predicted_views)"
      ],
      "execution_count": 93,
      "outputs": []
    },
    {
      "cell_type": "code",
      "metadata": {
        "id": "SzrRx4pA4d-m",
        "colab_type": "code",
        "colab": {
          "base_uri": "https://localhost:8080/",
          "height": 50
        },
        "outputId": "c2860a82-38b5-4cfd-af07-f3eeed7d2815"
      },
      "source": [
        "print('Mean_Squared_Error :' ,mse)\n",
        "print('r_square_value :',r_squared)"
      ],
      "execution_count": 94,
      "outputs": [
        {
          "output_type": "stream",
          "text": [
            "Mean_Squared_Error : 4677651616.2534075\n",
            "r_square_value : 0.802643446857565\n"
          ],
          "name": "stdout"
        }
      ]
    },
    {
      "cell_type": "code",
      "metadata": {
        "id": "JPzlwaId4d-o",
        "colab_type": "code",
        "colab": {
          "base_uri": "https://localhost:8080/",
          "height": 333
        },
        "outputId": "8aac354f-ecd7-4cdf-b113-f4ec95b55495"
      },
      "source": [
        "#Actual vs Predicted\n",
        "c = [i for i in range(1,81,1)]\n",
        "fig = plt.figure()\n",
        "plt.plot(c,media.Views_show, color=\"blue\", linewidth=2.5, linestyle=\"-\")\n",
        "plt.plot(c,Predicted_views, color=\"red\",  linewidth=2.5, linestyle=\"-\")\n",
        "fig.suptitle('Actual and Predicted', fontsize=20)              # Plot heading \n",
        "plt.xlabel('Index', fontsize=18)                               # X-label\n",
        "plt.ylabel('Views', fontsize=16)                               # Y-label"
      ],
      "execution_count": 95,
      "outputs": [
        {
          "output_type": "execute_result",
          "data": {
            "text/plain": [
              "Text(0, 0.5, 'Views')"
            ]
          },
          "metadata": {
            "tags": []
          },
          "execution_count": 95
        },
        {
          "output_type": "display_data",
          "data": {
            "image/png": "[encoded data removed]",
            "text/plain": [
              "<Figure size 432x288 with 1 Axes>"
            ]
          },
          "metadata": {
            "tags": [],
            "needs_background": "light"
          }
        }
      ]
    },
    {
      "cell_type": "code",
      "metadata": {
        "id": "C3nEqAa14d-q",
        "colab_type": "code",
        "colab": {
          "base_uri": "https://localhost:8080/",
          "height": 333
        },
        "outputId": "4f29a252-c20a-47a0-d5b1-0b1e71f92aa1"
      },
      "source": [
        "# Error terms\n",
        "c = [i for i in range(1,81,1)]\n",
        "fig = plt.figure()\n",
        "plt.plot(c,media.Views_show-Predicted_views, color=\"blue\", linewidth=2.5, linestyle=\"-\")\n",
        "fig.suptitle('Error Terms', fontsize=20)              # Plot heading \n",
        "plt.xlabel('Index', fontsize=18)                      # X-label\n",
        "plt.ylabel('Views_show-Predicted_views', fontsize=16)                # Y-label"
      ],
      "execution_count": 96,
      "outputs": [
        {
          "output_type": "execute_result",
          "data": {
            "text/plain": [
              "Text(0, 0.5, 'Views_show-Predicted_views')"
            ]
          },
          "metadata": {
            "tags": []
          },
          "execution_count": 96
        },
        {
          "output_type": "display_data",
          "data": {
            "image/png": "[encoded data removed]",
            "text/plain": [
              "<Figure size 432x288 with 1 Axes>"
            ]
          },
          "metadata": {
            "tags": [],
            "needs_background": "light"
          }
        }
      ]
    },
    {
      "cell_type": "markdown",
      "metadata": {
        "id": "6BStzTbo4d-r",
        "colab_type": "text"
      },
      "source": [
        "#### Making predictions using lm6"
      ]
    },
    {
      "cell_type": "code",
      "metadata": {
        "id": "kpZ2MyMD4d-s",
        "colab_type": "code",
        "colab": {}
      },
      "source": [
        "# Making predictions using the model\n",
        "X = media[['weekend','Character_A','Visitors']]\n",
        "X = sm.add_constant(X)\n",
        "Predicted_views = lm_6.predict(X)"
      ],
      "execution_count": 97,
      "outputs": []
    },
    {
      "cell_type": "code",
      "metadata": {
        "id": "yBumrOGt4d-t",
        "colab_type": "code",
        "colab": {}
      },
      "source": [
        "from sklearn.metrics import mean_squared_error, r2_score\n",
        "mse = mean_squared_error(media.Views_show, Predicted_views)\n",
        "r_squared = r2_score(media.Views_show, Predicted_views)"
      ],
      "execution_count": 98,
      "outputs": []
    },
    {
      "cell_type": "code",
      "metadata": {
        "id": "JhSSuW-f4d-x",
        "colab_type": "code",
        "colab": {
          "base_uri": "https://localhost:8080/",
          "height": 50
        },
        "outputId": "c26ee396-5b93-4363-f758-180b0c491dea"
      },
      "source": [
        "print('Mean_Squared_Error :' ,mse)\n",
        "print('r_square_value :',r_squared)"
      ],
      "execution_count": 99,
      "outputs": [
        {
          "output_type": "stream",
          "text": [
            "Mean_Squared_Error : 9815432480.451523\n",
            "r_square_value : 0.585873408097934\n"
          ],
          "name": "stdout"
        }
      ]
    },
    {
      "cell_type": "code",
      "metadata": {
        "id": "93G2omFH4d-3",
        "colab_type": "code",
        "colab": {
          "base_uri": "https://localhost:8080/",
          "height": 333
        },
        "outputId": "67656397-5e0a-4458-fdbb-d904efb02032"
      },
      "source": [
        "#Actual vs Predicted\n",
        "c = [i for i in range(1,81,1)]\n",
        "fig = plt.figure()\n",
        "plt.plot(c,media.Views_show, color=\"blue\", linewidth=2.5, linestyle=\"-\")\n",
        "plt.plot(c,Predicted_views, color=\"red\",  linewidth=2.5, linestyle=\"-\")\n",
        "fig.suptitle('Actual and Predicted', fontsize=20)              # Plot heading \n",
        "plt.xlabel('Index', fontsize=18)                               # X-label\n",
        "plt.ylabel('Views', fontsize=16)                               # Y-label"
      ],
      "execution_count": 100,
      "outputs": [
        {
          "output_type": "execute_result",
          "data": {
            "text/plain": [
              "Text(0, 0.5, 'Views')"
            ]
          },
          "metadata": {
            "tags": []
          },
          "execution_count": 100
        },
        {
          "output_type": "display_data",
          "data": {
            "image/png": "[encoded data removed]",
            "text/plain": [
              "<Figure size 432x288 with 1 Axes>"
            ]
          },
          "metadata": {
            "tags": [],
            "needs_background": "light"
          }
        }
      ]
    },
    {
      "cell_type": "code",
      "metadata": {
        "id": "spQ2lT1X4d-4",
        "colab_type": "code",
        "colab": {
          "base_uri": "https://localhost:8080/",
          "height": 333
        },
        "outputId": "4b38fb6f-1572-43a2-d8e4-e396e76440c2"
      },
      "source": [
        "# Error terms\n",
        "c = [i for i in range(1,81,1)]\n",
        "fig = plt.figure()\n",
        "plt.plot(c,media.Views_show-Predicted_views, color=\"blue\", linewidth=2.5, linestyle=\"-\")\n",
        "fig.suptitle('Error Terms', fontsize=20)              # Plot heading \n",
        "plt.xlabel('Index', fontsize=18)                      # X-label\n",
        "plt.ylabel('Views_show-Predicted_views', fontsize=16)                # Y-label"
      ],
      "execution_count": 101,
      "outputs": [
        {
          "output_type": "execute_result",
          "data": {
            "text/plain": [
              "Text(0, 0.5, 'Views_show-Predicted_views')"
            ]
          },
          "metadata": {
            "tags": []
          },
          "execution_count": 101
        },
        {
          "output_type": "display_data",
          "data": {
            "image/png": "[encoded data removed]",
            "text/plain": [
              "<Figure size 432x288 with 1 Axes>"
            ]
          },
          "metadata": {
            "tags": [],
            "needs_background": "light"
          }
        }
      ]
    },
    {
      "cell_type": "code",
      "metadata": {
        "id": "u5A8Vrhu53ew",
        "colab_type": "code",
        "colab": {}
      },
      "source": [
        ""
      ],
      "execution_count": 101,
      "outputs": []
    }
  ]
}